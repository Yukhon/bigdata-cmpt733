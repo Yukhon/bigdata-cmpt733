{
 "cells": [
  {
   "cell_type": "markdown",
   "metadata": {},
   "source": [
    "# Assignment 1-1: Web Scraping"
   ]
  },
  {
   "cell_type": "markdown",
   "metadata": {},
   "source": [
    "## Objective"
   ]
  },
  {
   "cell_type": "markdown",
   "metadata": {},
   "source": [
    "Data scientists often need to crawl data from websites and turn the crawled data (HTML pages) to structured data (tables). Thus, web scraping is an essential skill that every data scientist should master. In this assignment, you will learn the followings:\n",
    "\n",
    "\n",
    "* How to download HTML pages from a website?\n",
    "* How to extract relevant content from an HTML page? \n",
    "\n",
    "Furthermore, you will gain a deeper understanding of the data science lifecycle.\n",
    "\n",
    "**Requirements:**\n",
    "\n",
    "1. Please use [pandas.DataFrame](http://pandas.pydata.org/pandas-docs/stable/generated/pandas.DataFrame.html) rather than spark.DataFrame to manipulate data.\n",
    "\n",
    "2. Please use [BeautifulSoup](https://www.crummy.com/software/BeautifulSoup/) rather than [lxml](http://lxml.de/) to parse an HTML page and extract data from the page.\n",
    "\n",
    "3. Please follow the python code style (https://www.python.org/dev/peps/pep-0008/). If TA finds your code hard to read, you will lose points. This requirement will stay for the whole semester."
   ]
  },
  {
   "cell_type": "markdown",
   "metadata": {},
   "source": [
    "## Preliminary"
   ]
  },
  {
   "cell_type": "markdown",
   "metadata": {},
   "source": [
    "If this is your first time to write a web scraper, you need to learn some basic knowledge of this topic. I found that this is a good resource: [Tutorial: Web Scraping and BeautifulSoup](https://www.dataquest.io/blog/web-scraping-beautifulsoup/). \n",
    "\n",
    "Please let me know if you find a better resource. I'll share it with the other students."
   ]
  },
  {
   "cell_type": "markdown",
   "metadata": {},
   "source": [
    "## Overview"
   ]
  },
  {
   "cell_type": "markdown",
   "metadata": {},
   "source": [
    "Imagine you are a data scientist working at SFU. Your job is to extract insights from SFU data to answer questions. \n",
    "\n",
    "In this assignment, you will do two tasks. Please recall the high-level data science lifecycle below. I suggest that when doing this assignment, please remind yourself of what data you collected and what questions you tried to answer.\n",
    "\n",
    "\n",
    "<img src=\"lifecycle.png\" width=\"500\">\n",
    "<center><h4>Figure 1. Data Science Lifecycle</h4></center>"
   ]
  },
  {
   "cell_type": "markdown",
   "metadata": {},
   "source": [
    "## Task 1: SFU CS Faculty Members"
   ]
  },
  {
   "cell_type": "markdown",
   "metadata": {},
   "source": [
    "Sometimes you don't know what questions to ask. No worries. Start collecting data first. \n",
    "\n",
    "In Task 1, your job is to write a web scraper to extract the faculty information from this page: [http://www.sfu.ca/computing/people/faculty.html](http://www.sfu.ca/computing/people/faculty.html).\n",
    "\n",
    "\n"
   ]
  },
  {
   "cell_type": "markdown",
   "metadata": {},
   "source": [
    "### (a) Crawl Web Page"
   ]
  },
  {
   "cell_type": "markdown",
   "metadata": {},
   "source": [
    "A web page is essentially a file stored in a remote machine (called web server). Please write code to download the HTML page and save it as a text file (\"csfaculty.html\")."
   ]
  },
  {
   "cell_type": "code",
   "execution_count": null,
   "metadata": {},
   "outputs": [],
   "source": [
    "# write your code\n",
    "import requests\n",
    "url = \"http://www.sfu.ca/computing/people/faculty.html\"\n",
    "r = requests.get(url, allow_redirects=True)\n",
    "filename = \"csfaculty.html\"\n",
    "open(filename, 'wb').write(r.content)"
   ]
  },
  {
   "cell_type": "markdown",
   "metadata": {},
   "source": [
    "### (b) Extract Structured Data"
   ]
  },
  {
   "cell_type": "markdown",
   "metadata": {},
   "source": [
    "Please write code to extract relevant content (name, rank, area, profile, homepage) from \"csfaculty.html\" and save them as a CSV file (like [faculty_table.csv](./faculty_table.csv)). "
   ]
  },
  {
   "cell_type": "code",
   "execution_count": null,
   "metadata": {},
   "outputs": [],
   "source": [
    "# write your code \n",
    "from bs4 import BeautifulSoup as bs\n",
    "import pandas as pd\n",
    "file = open('./csfaculty.html','r',encoding=\"utf-8\")\n",
    "html = file.read()\n",
    "bs = bs(html,\"html.parser\")\n",
    "divs = bs.find_all(lambda tag: tag.name == 'div' and tag.get('class') == ['text'])\n",
    "\n",
    "name = []\n",
    "rank = []\n",
    "area = []\n",
    "profile = []\n",
    "homepage = []\n",
    "\n",
    "for div in divs:\n",
    "    index = 1\n",
    "\n",
    "    for child in div.children:\n",
    "        \n",
    "        if index == 1: \n",
    "            name.append(str(child).split(',')[0].split('>')[-1])\n",
    "            rank.append(str(child).split(',')[1].split('<')[0][1:])\n",
    "            pass\n",
    "        if index == 3:\n",
    "            index_area = 1\n",
    "            for string in child.stripped_strings:\n",
    "                if index_area == 2:\n",
    "                    if string is None:\n",
    "                        string = \"\"\n",
    "                    area.append(string)\n",
    "                index_area+=1\n",
    "        if index == 5:\n",
    "            atags = child.find_all('a')\n",
    "            profile_link = ''\n",
    "            homepage_link = ''\n",
    "            for atag in atags:\n",
    "                if atag.get('href'):\n",
    "                    if str(atag.string).replace(u'\\xa0','')=='Profile & Contact Information':\n",
    "                        profile_link = atag.get('href')\n",
    "                        if not profile_link.startswith('http://www.sfu.ca'):\n",
    "                            profile_link = 'http://www.sfu.ca' + profile_link\n",
    "                    elif atag.string == 'Home Page':\n",
    "                        homepage_link = atag.get('href')\n",
    "            profile.append(profile_link)\n",
    "            homepage.append(homepage_link)\n",
    "            \n",
    "        index+=1\n",
    "\n",
    "area.append('')\n",
    "profile.append('')\n",
    "homepage.append('')\n",
    "\n",
    "faculty = pd.DataFrame({\n",
    "    'name': name,\n",
    "    'rank': rank,\n",
    "    'areas':area,\n",
    "    'profile': profile,\n",
    "    'homepage': homepage\n",
    "})\n",
    "faculty.to_csv('my_faculty_table.csv', index=False)\n",
    "\n",
    "\n"
   ]
  },
  {
   "cell_type": "markdown",
   "metadata": {},
   "source": [
    "### (c) Interesting Finding"
   ]
  },
  {
   "cell_type": "markdown",
   "metadata": {},
   "source": [
    "Note that you don't need to do anything for Task 1(c). The purpose of this part is to give you some sense about how to leverage exploratory data analysis (EDA) to come up with interesting questions about the data. EDA is an important topic in data science; you will  learn it soon from this course. \n",
    "\n",
    "\n",
    "First, please install [dataprep](http://dataprep.ai).\n",
    "Then, run the cell below. \n",
    "It shows a bar chart for every column. What interesting findings can you get from these visualizations? "
   ]
  },
  {
   "cell_type": "code",
   "execution_count": null,
   "metadata": {},
   "outputs": [],
   "source": [
    "from dataprep.eda import plot\n",
    "import pandas as pd\n",
    "\n",
    "df = pd.read_csv(\"my_faculty_table.csv\")\n",
    "plot(df)\n"
   ]
  },
  {
   "cell_type": "markdown",
   "metadata": {},
   "source": [
    "Below are some examples:\n",
    "\n",
    "**Finding 1:** Professor# (26) is more than 2x larger than Associate Professor# (10). \n",
    "\n",
    "**Questions:** Why did it happen? Is it common in all CS schools in Canada? Will the gap go larger or smaller in five years? What actions can be taken to enlarge/shrink the gap?\n",
    "\n",
    "\n",
    "**Finding 2:** The Homepage has 22% missing values. \n",
    "\n",
    "**Questions:** Why are there so many missing values? Is it because many faculty do not have their own homepages or do not add their homepages to the school page? What actions can be taken to avoid this to happen in the future? "
   ]
  },
  {
   "cell_type": "markdown",
   "metadata": {},
   "source": [
    "## Task 2: Age Follows Normal Distribution?"
   ]
  },
  {
   "cell_type": "markdown",
   "metadata": {},
   "source": [
    "### (a) Crawl Web Page"
   ]
  },
  {
   "cell_type": "markdown",
   "metadata": {},
   "source": [
    "In this task, you start with a question and then figure out what data to collect.\n",
    "\n",
    "The question that you are interested in is `Does SFU CS faculty age follow a normal distribution?`\n",
    "\n",
    "To estimate the age of a faculty member, you can collect the year in which s/he graduates from a university (`gradyear`) and then estimate `age` using the following equation:\n",
    "\n",
    "$$age \\approx 2021+23 - gradyear$$\n",
    "\n",
    "For example, if one graduates from a university in 1990, then the age is estimated as 2021+23-1990 = 54. \n",
    "\n"
   ]
  },
  {
   "cell_type": "markdown",
   "metadata": {},
   "source": [
    "You notice that faculty profile pages contain graduation information. For example, you can see that Dr. Jiannan Wang graduated from Harbin Institute of Technology in 2008 at [http://www.sfu.ca/computing/people/faculty/jiannanwang.html](http://www.sfu.ca/computing/people/faculty/jiannanwang.html). \n",
    "\n",
    "\n",
    "Please write code to download the 65 profile pages and save each page as a text file. "
   ]
  },
  {
   "cell_type": "code",
   "execution_count": null,
   "metadata": {},
   "outputs": [],
   "source": [
    "# Write your code'\n",
    "df = pd.read_csv('my_faculty_table.csv')\n",
    "\n",
    "df_profile = df['profile'].dropna()\n",
    "df_profile\n",
    "index = 0 \n",
    "for profile in df_profile:\n",
    "    r = requests.get(profile, allow_redirects=True)\n",
    "    filename = 'data/' + str(index) + '_profile.html'\n",
    "    open(filename, 'wb').write(r.content)\n",
    "    index += 1\n"
   ]
  },
  {
   "cell_type": "markdown",
   "metadata": {},
   "source": [
    "### (b) Extract Structured Data"
   ]
  },
  {
   "cell_type": "markdown",
   "metadata": {},
   "source": [
    "Please write code to extract the earliest graduation year (e.g., 2008 for Dr. Jiannan Wang) from each profile page, and create a csv file like [faculty_grad_year.csv](./faculty_grad_year.csv). "
   ]
  },
  {
   "cell_type": "code",
   "execution_count": null,
   "metadata": {},
   "outputs": [],
   "source": [
    "# write your code here\n",
    "import re\n",
    "def extract_age(page):\n",
    "    file = open(page,'r',encoding=\"utf-8\")\n",
    "    html = file.read()\n",
    "    bs1 = bs(html,\"html.parser\")\n",
    "    name_session = bs1.find('title')\n",
    "    name = name_session.string.split(' -')[0]\n",
    "    education_session = bs1.find(lambda tag: tag.get_text().strip() in ['Education', 'Education:'])\n",
    "    education_content = education_session.find_next()\n",
    "    if not education_content.contents:\n",
    "        education_content = education_content.find_next()\n",
    "    earliest_gradudation = float('inf')\n",
    "    for i in education_content.contents:\n",
    "        graduation_year = re.findall('\\d+',str(i.string))\n",
    "        \n",
    "        if graduation_year:\n",
    "            graduation_year = map(int, graduation_year)\n",
    "            curr_min = min(graduation_year)\n",
    "            earliest_gradudation = min(earliest_gradudation, curr_min)\n",
    "    if earliest_gradudation == float('inf'):\n",
    "        earliest_gradudation = None\n",
    "    return name, earliest_gradudation\n",
    "\n",
    "names = []\n",
    "graduation_years = []\n",
    "for i in range(len(df_profile)):\n",
    "    name, year =extract_age('./data/' + str(i) + '_profile.html')\n",
    "    names.append(name)\n",
    "    graduation_years.append(year)\n",
    "\n",
    "graduation = pd.DataFrame({\n",
    "    'name': names,\n",
    "    'graduation_year': graduation_years,\n",
    "})\n",
    "graduation.to_csv('my_faculty_grad_year.csv', index=False)\n",
    "\n",
    "    "
   ]
  },
  {
   "cell_type": "markdown",
   "metadata": {},
   "source": [
    "### (c) Interesting Finding"
   ]
  },
  {
   "cell_type": "markdown",
   "metadata": {},
   "source": [
    "Similar to Task 1(c), you don't need to do anything here. Just look at different visualizations w.r.t. age and give yourself an answer to the question: `Does SFU CS faculty age follow a normal distribution?`"
   ]
  },
  {
   "cell_type": "code",
   "execution_count": null,
   "metadata": {
    "scrolled": true
   },
   "outputs": [],
   "source": [
    "from dataprep.eda import plot\n",
    "import pandas as pd\n",
    "\n",
    "df = pd.read_csv(\"faculty_grad_year.csv\")\n",
    "df[\"age\"] = 2021+23-df[\"gradyear\"]\n",
    "\n",
    "plot(df, \"age\")"
   ]
  },
  {
   "cell_type": "markdown",
   "metadata": {},
   "source": [
    "## Submission"
   ]
  },
  {
   "cell_type": "markdown",
   "metadata": {},
   "source": [
    "Complete the code in this notebook, and submit it to the CourSys activity `Assignment 1`."
   ]
  },
  {
   "cell_type": "markdown",
   "metadata": {},
   "source": [
    "## Bonus: Contribute to DataPrep"
   ]
  },
  {
   "cell_type": "markdown",
   "metadata": {},
   "source": [
    "**Total Bonus: 0.2 + 0.3 = 0.5**\n",
    "\n",
    "1. If you create an issue (i.e., report a bug or request a feature) at [link1](https://github.com/sfu-db/dataprep/issues), you will get **0.2** bonus points.\n",
    "\n",
    "2.  Creating more issues will *not* give you more bonus points, but you are encouraged to do so for learning more.\n",
    "\n",
    "2. If you send a pull request (i.e., fix a bug or implement a feature) at [link1](https://github.com/sfu-db/dataprep/pulls) and the pull request gets merged into the repo, you will get **0.3** bonus points. \n",
    "\n",
    "4.  Sending more pull requests will *not* give you more bonus points, but you are encouraged to do so for learning more.\n",
    "\n",
    "5. These bonus points will be directly added to your final grade.\n",
    "\n",
    "\n",
    "\n",
    "\n",
    "\n",
    "\n",
    "**How to Submit**\n",
    "* Submit github link(s) to the CourSys activity `Bonus`.\n",
    "* Due on `March 13, 2022`\n",
    "\n",
    "If you love dataprep, please support it by simply clicking the **<span style=\"color:red\">Star</span>** on [Github](https://github.com/sfu-db/dataprep).\n",
    "<img src=\"dataprep-star-2022.png\" width=\"1000\">"
   ]
  },
  {
   "cell_type": "code",
   "execution_count": null,
   "metadata": {},
   "outputs": [],
   "source": []
  }
 ],
 "metadata": {
  "kernelspec": {
   "display_name": "Python 3 (ipykernel)",
   "language": "python",
   "name": "python3"
  },
  "language_info": {
   "codemirror_mode": {
    "name": "ipython",
    "version": 3
   },
   "file_extension": ".py",
   "mimetype": "text/x-python",
   "name": "python",
   "nbconvert_exporter": "python",
   "pygments_lexer": "ipython3",
   "version": "3.7.12"
  }
 },
 "nbformat": 4,
 "nbformat_minor": 1
}
